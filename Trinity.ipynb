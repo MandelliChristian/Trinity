{
 "cells": [
  {
   "cell_type": "markdown",
   "id": "5a71bd88-ebb5-4c03-a1d6-d6d23afcfda7",
   "metadata": {},
   "source": [
    "## **Hotspot Prediction Tool (Trinity)**\n",
    "##### This hotspot prediction tool is specifically designed to analyze genomic sequences, generating all potential secondary structures within a specified range of 50 to 200 base pairs. It then identifies the structure with the lowest free energy, indicative of a potential hotspot-related RNA-interference (RNAi) precursor. The input sequences typically originate from experimental data, such as small RNA sequencing studies on viruses, aimed at identifying regions of the viral genome targeted by the host RNAi machinery."
   ]
  },
  {
   "cell_type": "markdown",
   "id": "42fa93eb-af01-417e-ac5e-2201f6f404c6",
   "metadata": {},
   "source": [
    "0. Starting line to import and install of all the needed packages"
   ]
  },
  {
   "cell_type": "code",
   "execution_count": 1,
   "id": "57b8102f-2731-457a-acef-66a732e4731d",
   "metadata": {},
   "outputs": [
    {
     "name": "stdout",
     "output_type": "stream",
     "text": [
      "Requirement already satisfied: biopython in /Users/christianmandelli/miniconda3/envs/myenv/lib/python3.8/site-packages (1.83)\n",
      "Requirement already satisfied: numpy in /Users/christianmandelli/miniconda3/envs/myenv/lib/python3.8/site-packages (from biopython) (1.24.3)\n",
      "Note: you may need to restart the kernel to use updated packages.\n"
     ]
    }
   ],
   "source": [
    "pip install biopython"
   ]
  },
  {
   "cell_type": "code",
   "execution_count": 2,
   "id": "3498f0e3-0ab0-435c-98de-87c36c120cdd",
   "metadata": {},
   "outputs": [
    {
     "name": "stdout",
     "output_type": "stream",
     "text": [
      "Requirement already satisfied: viennarna in /Users/christianmandelli/miniconda3/envs/myenv/lib/python3.8/site-packages (2.6.4)\n",
      "Note: you may need to restart the kernel to use updated packages.\n"
     ]
    }
   ],
   "source": [
    "pip install viennarna"
   ]
  },
  {
   "cell_type": "code",
   "execution_count": 3,
   "id": "44012cb0-c6a5-42f5-9be4-e2fa56557adf",
   "metadata": {},
   "outputs": [
    {
     "name": "stdout",
     "output_type": "stream",
     "text": [
      "Requirement already satisfied: pillow in /Users/christianmandelli/miniconda3/envs/myenv/lib/python3.8/site-packages (10.2.0)\n",
      "Note: you may need to restart the kernel to use updated packages.\n"
     ]
    }
   ],
   "source": [
    "pip install pillow"
   ]
  },
  {
   "cell_type": "markdown",
   "id": "47e36488-445e-47e8-a4d7-c32a35c92910",
   "metadata": {},
   "source": [
    "1. Computation of Hotspot Subsequences"
   ]
  },
  {
   "cell_type": "code",
   "execution_count": 5,
   "id": "b49ce0b3-de46-49a2-9867-c19aa9b57ec8",
   "metadata": {},
   "outputs": [],
   "source": [
    "from Bio import SeqIO\n",
    "\n",
    "def generate_subsequences(sequence, min_length=21):\n",
    "    subsequences = []\n",
    "    for i in range(len(sequence) - min_length + 1):\n",
    "        for j in range(min_length, len(sequence) - i + 1):\n",
    "            subsequences.append(sequence[i:i+j])\n",
    "    return subsequences\n",
    "\n",
    "def write_subsequences_to_fasta(sequence_id, subsequences, output_folder):\n",
    "    with open(f\"{output_folder}/{sequence_id}_subsequences.fasta\", \"w\") as output_file:\n",
    "        for i, subsequence in enumerate(subsequences):\n",
    "            output_file.write(f\">{sequence_id}_subsequence_{i+1}\\n{subsequence}\\n\")\n",
    "\n",
    "def main(input_fasta, output_folder):\n",
    "    for record in SeqIO.parse(input_fasta, \"fasta\"):\n",
    "        subsequences = generate_subsequences(str(record.seq))\n",
    "        write_subsequences_to_fasta(record.id, subsequences, output_folder)\n",
    "\n",
    "if __name__ == \"__main__\":\n",
    "    input_fasta = \"GRBV_Hotspots.fasta\"  # Path to input FASTA file\n",
    "    output_folder = \"subsequences_output\"  # Output folder to save subsequence FASTA files\n",
    "    main(input_fasta, output_folder)"
   ]
  },
  {
   "cell_type": "markdown",
   "id": "f3473684-bee9-4e4a-8c4e-0274fd52f1ef",
   "metadata": {},
   "source": [
    "2. Secondary Structure Prediction and MFE Ranking (using Hotspot 1 as example)"
   ]
  },
  {
   "cell_type": "code",
   "execution_count": 1,
   "id": "c7e9e38f",
   "metadata": {},
   "outputs": [
    {
     "name": "stdout",
     "output_type": "stream",
     "text": [
      "Starting the analysis...\n",
      "Analysis in progress...\n",
      "Processed 100 out of 8256 sequences\n",
      "Processed 200 out of 8256 sequences\n",
      "Processed 300 out of 8256 sequences\n",
      "Processed 400 out of 8256 sequences\n",
      "Processed 500 out of 8256 sequences\n",
      "Processed 600 out of 8256 sequences\n",
      "Processed 700 out of 8256 sequences\n",
      "Processed 800 out of 8256 sequences\n",
      "Processed 900 out of 8256 sequences\n",
      "Processed 1000 out of 8256 sequences\n",
      "Processed 1100 out of 8256 sequences\n",
      "Processed 1200 out of 8256 sequences\n",
      "Processed 1300 out of 8256 sequences\n",
      "Processed 1400 out of 8256 sequences\n",
      "Processed 1500 out of 8256 sequences\n",
      "Processed 1600 out of 8256 sequences\n",
      "Processed 1700 out of 8256 sequences\n",
      "Processed 1800 out of 8256 sequences\n",
      "Processed 1900 out of 8256 sequences\n",
      "Processed 2000 out of 8256 sequences\n",
      "Processed 2100 out of 8256 sequences\n",
      "Processed 2200 out of 8256 sequences\n",
      "Processed 2300 out of 8256 sequences\n",
      "Processed 2400 out of 8256 sequences\n",
      "Processed 2500 out of 8256 sequences\n",
      "Processed 2600 out of 8256 sequences\n",
      "Processed 2700 out of 8256 sequences\n",
      "Processed 2800 out of 8256 sequences\n",
      "Processed 2900 out of 8256 sequences\n",
      "Processed 3000 out of 8256 sequences\n",
      "Processed 3100 out of 8256 sequences\n",
      "Processed 3200 out of 8256 sequences\n",
      "Processed 3300 out of 8256 sequences\n",
      "Processed 3400 out of 8256 sequences\n",
      "Processed 3500 out of 8256 sequences\n",
      "Processed 3600 out of 8256 sequences\n",
      "Processed 3700 out of 8256 sequences\n",
      "Processed 3800 out of 8256 sequences\n",
      "Processed 3900 out of 8256 sequences\n",
      "Processed 4000 out of 8256 sequences\n",
      "Processed 4100 out of 8256 sequences\n",
      "Processed 4200 out of 8256 sequences\n",
      "Processed 4300 out of 8256 sequences\n",
      "Processed 4400 out of 8256 sequences\n",
      "Processed 4500 out of 8256 sequences\n",
      "Processed 4600 out of 8256 sequences\n",
      "Processed 4700 out of 8256 sequences\n",
      "Processed 4800 out of 8256 sequences\n",
      "Processed 4900 out of 8256 sequences\n",
      "Processed 5000 out of 8256 sequences\n",
      "Processed 5100 out of 8256 sequences\n",
      "Processed 5200 out of 8256 sequences\n",
      "Processed 5300 out of 8256 sequences\n",
      "Processed 5400 out of 8256 sequences\n",
      "Processed 5500 out of 8256 sequences\n",
      "Processed 5600 out of 8256 sequences\n",
      "Processed 5700 out of 8256 sequences\n",
      "Processed 5800 out of 8256 sequences\n",
      "Processed 5900 out of 8256 sequences\n",
      "Processed 6000 out of 8256 sequences\n",
      "Processed 6100 out of 8256 sequences\n",
      "Processed 6200 out of 8256 sequences\n",
      "Processed 6300 out of 8256 sequences\n",
      "Processed 6400 out of 8256 sequences\n",
      "Processed 6500 out of 8256 sequences\n",
      "Processed 6600 out of 8256 sequences\n",
      "Processed 6700 out of 8256 sequences\n",
      "Processed 6800 out of 8256 sequences\n",
      "Processed 6900 out of 8256 sequences\n",
      "Processed 7000 out of 8256 sequences\n",
      "Processed 7100 out of 8256 sequences\n",
      "Processed 7200 out of 8256 sequences\n",
      "Processed 7300 out of 8256 sequences\n",
      "Processed 7400 out of 8256 sequences\n",
      "Processed 7500 out of 8256 sequences\n",
      "Processed 7600 out of 8256 sequences\n",
      "Processed 7700 out of 8256 sequences\n",
      "Processed 7800 out of 8256 sequences\n",
      "Processed 7900 out of 8256 sequences\n",
      "Processed 8000 out of 8256 sequences\n",
      "Processed 8100 out of 8256 sequences\n",
      "Processed 8200 out of 8256 sequences\n",
      "Analysis Completed!\n"
     ]
    },
    {
     "ename": "FileNotFoundError",
     "evalue": "[Errno 2] No such file or directory: 'ranked_subsequences_output_1/ranked_subsequences.txt'",
     "output_type": "error",
     "traceback": [
      "\u001b[0;31m---------------------------------------------------------------------------\u001b[0m",
      "\u001b[0;31mFileNotFoundError\u001b[0m                         Traceback (most recent call last)",
      "Cell \u001b[0;32mIn[1], line 79\u001b[0m\n\u001b[1;32m     77\u001b[0m input_fasta \u001b[38;5;241m=\u001b[39m \u001b[38;5;124m\"\u001b[39m\u001b[38;5;124msubsequences_output/Hotspot_1_subsequences.fasta\u001b[39m\u001b[38;5;124m\"\u001b[39m  \u001b[38;5;66;03m# Path to the input FASTA file containing the subsequences\u001b[39;00m\n\u001b[1;32m     78\u001b[0m output_folder \u001b[38;5;241m=\u001b[39m \u001b[38;5;124m\"\u001b[39m\u001b[38;5;124mranked_subsequences_output_1\u001b[39m\u001b[38;5;124m\"\u001b[39m  \u001b[38;5;66;03m# Output folder to save the ranked subsequences\u001b[39;00m\n\u001b[0;32m---> 79\u001b[0m \u001b[43mrank_subsequences\u001b[49m\u001b[43m(\u001b[49m\u001b[43minput_fasta\u001b[49m\u001b[43m,\u001b[49m\u001b[43m \u001b[49m\u001b[43moutput_folder\u001b[49m\u001b[43m)\u001b[49m\n",
      "Cell \u001b[0;32mIn[1], line 59\u001b[0m, in \u001b[0;36mrank_subsequences\u001b[0;34m(input_fasta, output_folder)\u001b[0m\n\u001b[1;32m     56\u001b[0m ranked_subsequences\u001b[38;5;241m.\u001b[39msort(key\u001b[38;5;241m=\u001b[39m\u001b[38;5;28;01mlambda\u001b[39;00m x: x[\u001b[38;5;241m1\u001b[39m])\n\u001b[1;32m     58\u001b[0m \u001b[38;5;66;03m# Save the top 20 subsequences with the lowest MFE to a file\u001b[39;00m\n\u001b[0;32m---> 59\u001b[0m \u001b[38;5;28;01mwith\u001b[39;00m \u001b[38;5;28;43mopen\u001b[39;49m\u001b[43m(\u001b[49m\u001b[43mos\u001b[49m\u001b[38;5;241;43m.\u001b[39;49m\u001b[43mpath\u001b[49m\u001b[38;5;241;43m.\u001b[39;49m\u001b[43mjoin\u001b[49m\u001b[43m(\u001b[49m\u001b[43moutput_folder\u001b[49m\u001b[43m,\u001b[49m\u001b[43m \u001b[49m\u001b[38;5;124;43m\"\u001b[39;49m\u001b[38;5;124;43mranked_subsequences.txt\u001b[39;49m\u001b[38;5;124;43m\"\u001b[39;49m\u001b[43m)\u001b[49m\u001b[43m,\u001b[49m\u001b[43m \u001b[49m\u001b[38;5;124;43m\"\u001b[39;49m\u001b[38;5;124;43mw\u001b[39;49m\u001b[38;5;124;43m\"\u001b[39;49m\u001b[43m)\u001b[49m \u001b[38;5;28;01mas\u001b[39;00m output_file:\n\u001b[1;32m     60\u001b[0m     output_file\u001b[38;5;241m.\u001b[39mwrite(\u001b[38;5;124m\"\u001b[39m\u001b[38;5;124mSubsequence\u001b[39m\u001b[38;5;130;01m\\t\u001b[39;00m\u001b[38;5;124mMinimum Free Energy\u001b[39m\u001b[38;5;130;01m\\n\u001b[39;00m\u001b[38;5;124m\"\u001b[39m)\n\u001b[1;32m     61\u001b[0m     \u001b[38;5;28;01mfor\u001b[39;00m subsequence, mfe \u001b[38;5;129;01min\u001b[39;00m ranked_subsequences[:\u001b[38;5;241m20\u001b[39m]:\n",
      "File \u001b[0;32m~/miniconda3/envs/myenv/lib/python3.8/site-packages/IPython/core/interactiveshell.py:284\u001b[0m, in \u001b[0;36m_modified_open\u001b[0;34m(file, *args, **kwargs)\u001b[0m\n\u001b[1;32m    277\u001b[0m \u001b[38;5;28;01mif\u001b[39;00m file \u001b[38;5;129;01min\u001b[39;00m {\u001b[38;5;241m0\u001b[39m, \u001b[38;5;241m1\u001b[39m, \u001b[38;5;241m2\u001b[39m}:\n\u001b[1;32m    278\u001b[0m     \u001b[38;5;28;01mraise\u001b[39;00m \u001b[38;5;167;01mValueError\u001b[39;00m(\n\u001b[1;32m    279\u001b[0m         \u001b[38;5;124mf\u001b[39m\u001b[38;5;124m\"\u001b[39m\u001b[38;5;124mIPython won\u001b[39m\u001b[38;5;124m'\u001b[39m\u001b[38;5;124mt let you open fd=\u001b[39m\u001b[38;5;132;01m{\u001b[39;00mfile\u001b[38;5;132;01m}\u001b[39;00m\u001b[38;5;124m by default \u001b[39m\u001b[38;5;124m\"\u001b[39m\n\u001b[1;32m    280\u001b[0m         \u001b[38;5;124m\"\u001b[39m\u001b[38;5;124mas it is likely to crash IPython. If you know what you are doing, \u001b[39m\u001b[38;5;124m\"\u001b[39m\n\u001b[1;32m    281\u001b[0m         \u001b[38;5;124m\"\u001b[39m\u001b[38;5;124myou can use builtins\u001b[39m\u001b[38;5;124m'\u001b[39m\u001b[38;5;124m open.\u001b[39m\u001b[38;5;124m\"\u001b[39m\n\u001b[1;32m    282\u001b[0m     )\n\u001b[0;32m--> 284\u001b[0m \u001b[38;5;28;01mreturn\u001b[39;00m \u001b[43mio_open\u001b[49m\u001b[43m(\u001b[49m\u001b[43mfile\u001b[49m\u001b[43m,\u001b[49m\u001b[43m \u001b[49m\u001b[38;5;241;43m*\u001b[39;49m\u001b[43margs\u001b[49m\u001b[43m,\u001b[49m\u001b[43m \u001b[49m\u001b[38;5;241;43m*\u001b[39;49m\u001b[38;5;241;43m*\u001b[39;49m\u001b[43mkwargs\u001b[49m\u001b[43m)\u001b[49m\n",
      "\u001b[0;31mFileNotFoundError\u001b[0m: [Errno 2] No such file or directory: 'ranked_subsequences_output_1/ranked_subsequences.txt'"
     ]
    }
   ],
   "source": [
    "import os\n",
    "from Bio import SeqIO\n",
    "import RNA\n",
    "\n",
    "def predict_secondary_structure(sequence):\n",
    "    # Initialize ViennaRNA RNAfold\n",
    "    (ss, mfe) = RNA.fold(sequence)\n",
    "    return ss, mfe\n",
    "\n",
    "def rank_subsequences(input_fasta, output_folder):\n",
    "    lowest_mfe = float('inf')  # Initialize with a large value\n",
    "    lowest_mfe_sequence = None\n",
    "    lowest_mfe_structure = None\n",
    "    ranked_subsequences = []\n",
    "    \n",
    "    # Count the total number of sequences in the input FASTA file\n",
    "    total_sequences = sum(1 for _ in SeqIO.parse(input_fasta, \"fasta\"))\n",
    "    processed_sequences = 0\n",
    "\n",
    "    print(\"Starting the analysis...\")\n",
    "    \n",
    "    # Iterate through each sequence in the input FASTA file\n",
    "    for record in SeqIO.parse(input_fasta, \"fasta\"):\n",
    "        processed_sequences += 1\n",
    "        \n",
    "        # Print progress update after the 10th analyzed sequence\n",
    "        if processed_sequences == 10:\n",
    "            print(\"Analysis in progress...\")\n",
    "        \n",
    "        # Print progress update every 1000 sequences analyzed\n",
    "        if processed_sequences % 100 == 0:\n",
    "            print(f\"Processed {processed_sequences} out of {total_sequences} sequences\")\n",
    "            \n",
    "            # Print progress update every 1000 sequences analyzed\n",
    "        if processed_sequences == total_sequences:\n",
    "            print(\"Analysis Completed!\")\n",
    "        \n",
    "        sequence = str(record.seq)\n",
    "        \n",
    "        # Iterate through all possible subsequences of the sequence\n",
    "        for i in range(len(sequence)):\n",
    "            for j in range(i + 50, min(i + 400, len(sequence))):  # Limiting to subsequences of length 50 to 400\n",
    "                subsequence = sequence[i:j]\n",
    "                \n",
    "                # Predict the secondary structure and minimum free energy (MFE) using RNAfold\n",
    "                ss, mfe = predict_secondary_structure(subsequence)\n",
    "                ranked_subsequences.append((subsequence, mfe))\n",
    "                \n",
    "                # Update lowest MFE sequence and structure if found\n",
    "                if mfe < lowest_mfe:\n",
    "                    lowest_mfe = mfe\n",
    "                    lowest_mfe_sequence = subsequence\n",
    "                    lowest_mfe_structure = ss\n",
    "\n",
    "    # Sort the ranked subsequences based on MFE (ascending order)\n",
    "    ranked_subsequences.sort(key=lambda x: x[1])\n",
    "    \n",
    "    # Save the top 20 subsequences with the lowest MFE to a file\n",
    "    with open(os.path.join(output_folder, \"ranked_subsequences.txt\"), \"w\") as output_file:\n",
    "        output_file.write(\"Subsequence\\tMinimum Free Energy\\n\")\n",
    "        for subsequence, mfe in ranked_subsequences[:20]:\n",
    "            output_file.write(f\"{subsequence}\\t{mfe}\\n\")\n",
    "    \n",
    "    # Write the sequence with the lowest MFE to a separate file\n",
    "    if lowest_mfe_sequence is not None:\n",
    "        lowest_mfe_length = len(lowest_mfe_sequence)\n",
    "        with open(os.path.join(output_folder, \"sequence_with_lowest_mfe.txt\"), \"w\") as lowest_mfe_file:\n",
    "            lowest_mfe_file.write(f\"Sequence with lowest MFE:\\n{lowest_mfe_sequence}\\nLength: {lowest_mfe_length}\\nMFE: {lowest_mfe}\")\n",
    "        \n",
    "        # Save the secondary structure to a dot file\n",
    "        dot_file_path = os.path.join(output_folder, \"lowest_mfe_structure.dot\")\n",
    "        with open(dot_file_path, \"w\") as dot_file:\n",
    "            dot_file.write(f\">{lowest_mfe_sequence}\\n{lowest_mfe_structure}\")\n",
    "\n",
    "\n",
    "if __name__ == \"__main__\":\n",
    "    input_fasta = \"subsequences_output/Hotspot_1_subsequences.fasta\"  # Path to the input FASTA file containing the subsequences\n",
    "    output_folder = \"ranked_subsequences_output_1\"  # Output folder to save the ranked subsequences\n",
    "    rank_subsequences(input_fasta, output_folder)"
   ]
  },
  {
   "cell_type": "markdown",
   "id": "f1852d6c-85e0-40df-bf09-0204e9dc906b",
   "metadata": {},
   "source": [
    "3. For each candidate sequence, estimate the k-mers ranging from 50 to 250 bp, on which the structure prediction will be performed"
   ]
  },
  {
   "cell_type": "markdown",
   "id": "e88e4159-1518-4fbd-a0f5-4044124b30eb",
   "metadata": {},
   "source": [
    "*Notebook Created By: Christian Mandelli, Oregon State University*"
   ]
  }
 ],
 "metadata": {
  "kernelspec": {
   "display_name": "Python 3 (ipykernel)",
   "language": "python",
   "name": "python3"
  },
  "language_info": {
   "codemirror_mode": {
    "name": "ipython",
    "version": 3
   },
   "file_extension": ".py",
   "mimetype": "text/x-python",
   "name": "python",
   "nbconvert_exporter": "python",
   "pygments_lexer": "ipython3",
   "version": "3.8.18"
  }
 },
 "nbformat": 4,
 "nbformat_minor": 5
}
