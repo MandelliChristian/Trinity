{
 "cells": [
  {
   "cell_type": "markdown",
   "id": "5a71bd88-ebb5-4c03-a1d6-d6d23afcfda7",
   "metadata": {},
   "source": [
    "## **Hotspot Prediction Tool (Trinity)**\n",
    "##### This hotspot prediction tool is specifically designed to analyze genomic sequences, generating all potential secondary structures within a specified range of 50 to 200 base pairs. It then identifies the structure with the lowest free energy, indicative of a potential hotspot-related RNA-interference (RNAi) precursor. The input sequences typically originate from experimental data, such as small RNA sequencing studies on viruses, aimed at identifying regions of the viral genome targeted by the host RNAi machinery."
   ]
  },
  {
   "cell_type": "markdown",
   "id": "42fa93eb-af01-417e-ac5e-2201f6f404c6",
   "metadata": {},
   "source": [
    "0. Starting line to import and install of all the needed packages"
   ]
  },
  {
   "cell_type": "code",
   "execution_count": 1,
   "id": "57b8102f-2731-457a-acef-66a732e4731d",
   "metadata": {},
   "outputs": [
    {
     "name": "stdout",
     "output_type": "stream",
     "text": [
      "Requirement already satisfied: biopython in /Users/christianmandelli/miniconda3/envs/myenv/lib/python3.8/site-packages (1.83)\n",
      "Requirement already satisfied: numpy in /Users/christianmandelli/miniconda3/envs/myenv/lib/python3.8/site-packages (from biopython) (1.24.3)\n",
      "Note: you may need to restart the kernel to use updated packages.\n"
     ]
    }
   ],
   "source": [
    "pip install biopython"
   ]
  },
  {
   "cell_type": "code",
   "execution_count": 2,
   "id": "3498f0e3-0ab0-435c-98de-87c36c120cdd",
   "metadata": {},
   "outputs": [
    {
     "name": "stdout",
     "output_type": "stream",
     "text": [
      "Requirement already satisfied: viennarna in /Users/christianmandelli/miniconda3/envs/myenv/lib/python3.8/site-packages (2.6.4)\n",
      "Note: you may need to restart the kernel to use updated packages.\n"
     ]
    }
   ],
   "source": [
    "pip install viennarna"
   ]
  },
  {
   "cell_type": "code",
   "execution_count": 3,
   "id": "44012cb0-c6a5-42f5-9be4-e2fa56557adf",
   "metadata": {},
   "outputs": [
    {
     "name": "stdout",
     "output_type": "stream",
     "text": [
      "Requirement already satisfied: pillow in /Users/christianmandelli/miniconda3/envs/myenv/lib/python3.8/site-packages (10.2.0)\n",
      "Note: you may need to restart the kernel to use updated packages.\n"
     ]
    }
   ],
   "source": [
    "pip install pillow"
   ]
  },
  {
   "cell_type": "markdown",
   "id": "47e36488-445e-47e8-a4d7-c32a35c92910",
   "metadata": {},
   "source": [
    "1. Code line to input fasta sequence and read through it"
   ]
  },
  {
   "cell_type": "code",
   "execution_count": 4,
   "id": "b49ce0b3-de46-49a2-9867-c19aa9b57ec8",
   "metadata": {},
   "outputs": [
    {
     "ename": "FileNotFoundError",
     "evalue": "[Errno 2] No such file or directory: 'Hotspot_1.fasta'",
     "output_type": "error",
     "traceback": [
      "\u001b[0;31m---------------------------------------------------------------------------\u001b[0m",
      "\u001b[0;31mFileNotFoundError\u001b[0m                         Traceback (most recent call last)",
      "Cell \u001b[0;32mIn[4], line 82\u001b[0m\n\u001b[1;32m     80\u001b[0m k_min \u001b[38;5;241m=\u001b[39m \u001b[38;5;241m50\u001b[39m\n\u001b[1;32m     81\u001b[0m k_max \u001b[38;5;241m=\u001b[39m \u001b[38;5;241m300\u001b[39m\n\u001b[0;32m---> 82\u001b[0m \u001b[43mmain\u001b[49m\u001b[43m(\u001b[49m\u001b[43minput_fasta\u001b[49m\u001b[43m,\u001b[49m\u001b[43m \u001b[49m\u001b[43moutput_fasta\u001b[49m\u001b[43m,\u001b[49m\u001b[43m \u001b[49m\u001b[43mk_min\u001b[49m\u001b[43m,\u001b[49m\u001b[43m \u001b[49m\u001b[43mk_max\u001b[49m\u001b[43m)\u001b[49m\n",
      "Cell \u001b[0;32mIn[4], line 46\u001b[0m, in \u001b[0;36mmain\u001b[0;34m(input_fasta, output_fasta, k_min, k_max)\u001b[0m\n\u001b[1;32m     45\u001b[0m \u001b[38;5;28;01mdef\u001b[39;00m \u001b[38;5;21mmain\u001b[39m(input_fasta, output_fasta, k_min, k_max):\n\u001b[0;32m---> 46\u001b[0m     sequence \u001b[38;5;241m=\u001b[39m \u001b[38;5;28mstr\u001b[39m(\u001b[38;5;28mnext\u001b[39m(\u001b[43mSeqIO\u001b[49m\u001b[38;5;241;43m.\u001b[39;49m\u001b[43mparse\u001b[49m\u001b[43m(\u001b[49m\u001b[43minput_fasta\u001b[49m\u001b[43m,\u001b[49m\u001b[43m \u001b[49m\u001b[38;5;124;43m\"\u001b[39;49m\u001b[38;5;124;43mfasta\u001b[39;49m\u001b[38;5;124;43m\"\u001b[39;49m\u001b[43m)\u001b[49m)\u001b[38;5;241m.\u001b[39mseq)\n\u001b[1;32m     47\u001b[0m     total_kmers, kmer_dict \u001b[38;5;241m=\u001b[39m calculate_kmers(sequence, k_min, k_max)\n\u001b[1;32m     49\u001b[0m     \u001b[38;5;66;03m# Calculate Gibbs free energy and secondary structure for each k-mer\u001b[39;00m\n",
      "File \u001b[0;32m~/miniconda3/envs/myenv/lib/python3.8/site-packages/Bio/SeqIO/__init__.py:613\u001b[0m, in \u001b[0;36mparse\u001b[0;34m(handle, format, alphabet)\u001b[0m\n\u001b[1;32m    611\u001b[0m iterator_generator \u001b[38;5;241m=\u001b[39m _FormatToIterator\u001b[38;5;241m.\u001b[39mget(\u001b[38;5;28mformat\u001b[39m)\n\u001b[1;32m    612\u001b[0m \u001b[38;5;28;01mif\u001b[39;00m iterator_generator:\n\u001b[0;32m--> 613\u001b[0m     \u001b[38;5;28;01mreturn\u001b[39;00m \u001b[43miterator_generator\u001b[49m\u001b[43m(\u001b[49m\u001b[43mhandle\u001b[49m\u001b[43m)\u001b[49m\n\u001b[1;32m    614\u001b[0m \u001b[38;5;28;01mif\u001b[39;00m \u001b[38;5;28mformat\u001b[39m \u001b[38;5;129;01min\u001b[39;00m AlignIO\u001b[38;5;241m.\u001b[39m_FormatToIterator:\n\u001b[1;32m    615\u001b[0m     \u001b[38;5;66;03m# Use Bio.AlignIO to read in the alignments\u001b[39;00m\n\u001b[1;32m    616\u001b[0m     \u001b[38;5;28;01mreturn\u001b[39;00m (r \u001b[38;5;28;01mfor\u001b[39;00m alignment \u001b[38;5;129;01min\u001b[39;00m AlignIO\u001b[38;5;241m.\u001b[39mparse(handle, \u001b[38;5;28mformat\u001b[39m) \u001b[38;5;28;01mfor\u001b[39;00m r \u001b[38;5;129;01min\u001b[39;00m alignment)\n",
      "File \u001b[0;32m~/miniconda3/envs/myenv/lib/python3.8/site-packages/Bio/SeqIO/FastaIO.py:190\u001b[0m, in \u001b[0;36mFastaIterator.__init__\u001b[0;34m(self, source, alphabet)\u001b[0m\n\u001b[1;32m    188\u001b[0m \u001b[38;5;28;01mif\u001b[39;00m alphabet \u001b[38;5;129;01mis\u001b[39;00m \u001b[38;5;129;01mnot\u001b[39;00m \u001b[38;5;28;01mNone\u001b[39;00m:\n\u001b[1;32m    189\u001b[0m     \u001b[38;5;28;01mraise\u001b[39;00m \u001b[38;5;167;01mValueError\u001b[39;00m(\u001b[38;5;124m\"\u001b[39m\u001b[38;5;124mThe alphabet argument is no longer supported\u001b[39m\u001b[38;5;124m\"\u001b[39m)\n\u001b[0;32m--> 190\u001b[0m \u001b[38;5;28;43msuper\u001b[39;49m\u001b[43m(\u001b[49m\u001b[43m)\u001b[49m\u001b[38;5;241;43m.\u001b[39;49m\u001b[38;5;21;43m__init__\u001b[39;49m\u001b[43m(\u001b[49m\u001b[43msource\u001b[49m\u001b[43m,\u001b[49m\u001b[43m \u001b[49m\u001b[43mmode\u001b[49m\u001b[38;5;241;43m=\u001b[39;49m\u001b[38;5;124;43m\"\u001b[39;49m\u001b[38;5;124;43mt\u001b[39;49m\u001b[38;5;124;43m\"\u001b[39;49m\u001b[43m,\u001b[49m\u001b[43m \u001b[49m\u001b[43mfmt\u001b[49m\u001b[38;5;241;43m=\u001b[39;49m\u001b[38;5;124;43m\"\u001b[39;49m\u001b[38;5;124;43mFasta\u001b[39;49m\u001b[38;5;124;43m\"\u001b[39;49m\u001b[43m)\u001b[49m\n",
      "File \u001b[0;32m~/miniconda3/envs/myenv/lib/python3.8/site-packages/Bio/SeqIO/Interfaces.py:58\u001b[0m, in \u001b[0;36mSequenceIterator.__init__\u001b[0;34m(self, source, alphabet, mode, fmt)\u001b[0m\n\u001b[1;32m     56\u001b[0m     \u001b[38;5;28;01mraise\u001b[39;00m \u001b[38;5;167;01mValueError\u001b[39;00m(\u001b[38;5;124m\"\u001b[39m\u001b[38;5;124mThe alphabet argument is no longer supported\u001b[39m\u001b[38;5;124m\"\u001b[39m)\n\u001b[1;32m     57\u001b[0m \u001b[38;5;28;01mif\u001b[39;00m \u001b[38;5;28misinstance\u001b[39m(source, _PathLikeTypes):\n\u001b[0;32m---> 58\u001b[0m     \u001b[38;5;28mself\u001b[39m\u001b[38;5;241m.\u001b[39mstream \u001b[38;5;241m=\u001b[39m \u001b[38;5;28;43mopen\u001b[39;49m\u001b[43m(\u001b[49m\u001b[43msource\u001b[49m\u001b[43m,\u001b[49m\u001b[43m \u001b[49m\u001b[38;5;124;43m\"\u001b[39;49m\u001b[38;5;124;43mr\u001b[39;49m\u001b[38;5;124;43m\"\u001b[39;49m\u001b[43m \u001b[49m\u001b[38;5;241;43m+\u001b[39;49m\u001b[43m \u001b[49m\u001b[43mmode\u001b[49m\u001b[43m)\u001b[49m\n\u001b[1;32m     59\u001b[0m     \u001b[38;5;28mself\u001b[39m\u001b[38;5;241m.\u001b[39mshould_close_stream \u001b[38;5;241m=\u001b[39m \u001b[38;5;28;01mTrue\u001b[39;00m\n\u001b[1;32m     60\u001b[0m \u001b[38;5;28;01melse\u001b[39;00m:\n",
      "\u001b[0;31mFileNotFoundError\u001b[0m: [Errno 2] No such file or directory: 'Hotspot_1.fasta'"
     ]
    }
   ],
   "source": [
    "from Bio import SeqIO\n",
    "import subprocess\n",
    "import os\n",
    "from PIL import Image\n",
    "\n",
    "def calculate_gibbs_free_energy(sequence):\n",
    "    # Use RNAfold to predict secondary structure and calculate Gibbs free energy at room temperature\n",
    "    cmd = f\"echo '{sequence}' | RNAfold --noPS --noLP --temp=25\"\n",
    "    result = subprocess.run(cmd, shell=True, stdout=subprocess.PIPE, stderr=subprocess.PIPE, text=True)\n",
    "\n",
    "    # Initialize variables\n",
    "    energy = None\n",
    "    structure = None\n",
    "\n",
    "    # Parse the output to get the Gibbs free energy and secondary structure\n",
    "    output_lines = result.stdout.split('\\n')\n",
    "    for line in output_lines:\n",
    "        if line.startswith(\"free energy:\"):\n",
    "            _, energy_str = line.split(\":\")\n",
    "            energy = float(energy_str.strip().split(\" \")[0])\n",
    "        elif line.startswith(\".\"):\n",
    "            structure = line.strip()\n",
    "\n",
    "    return energy, structure\n",
    "\n",
    "\n",
    "def calculate_kmers(sequence, k_min, k_max):\n",
    "    total_kmers = 0\n",
    "    kmer_dict = {}\n",
    "\n",
    "    for k in range(k_min, k_max + 1):\n",
    "        kmers = [sequence[i:i + k] for i in range(len(sequence) - k + 1)]\n",
    "        total_kmers += len(kmers)\n",
    "        kmer_dict[k] = kmers\n",
    "\n",
    "    return total_kmers, kmer_dict\n",
    "\n",
    "def write_kmers_to_fasta(output_filename, kmer_dict):\n",
    "    with open(output_filename, 'w') as output_file:\n",
    "        for k, kmers in kmer_dict.items():\n",
    "            for i, kmer_seq in enumerate(kmers, start=1):\n",
    "                output_file.write(f\">k-{k}_{i}\\n\")\n",
    "                output_file.write(f\"{kmer_seq}\\n\")\n",
    "\n",
    "def main(input_fasta, output_fasta, k_min, k_max):\n",
    "    sequence = str(next(SeqIO.parse(input_fasta, \"fasta\")).seq)\n",
    "    total_kmers, kmer_dict = calculate_kmers(sequence, k_min, k_max)\n",
    "\n",
    "    # Calculate Gibbs free energy and secondary structure for each k-mer\n",
    "    kmer_info = []\n",
    "    for k, kmers in kmer_dict.items():\n",
    "        for kmer in kmers:\n",
    "            energy, structure = calculate_gibbs_free_energy(kmer)\n",
    "            kmer_info.append((kmer, energy, structure))\n",
    "\n",
    "    # Sort k-mers based on Gibbs free energy in ascending order\n",
    "    sorted_kmers_info = sorted(kmer_info, key=lambda x: x[1])\n",
    "\n",
    "    # Print the first 5 k-mers with the lowest Gibbs free energy and their secondary structure\n",
    "    print(\"Top 5 k-mers with lowest Gibbs free energy:\")\n",
    "    for i, (kmer, energy, structure) in enumerate(sorted_kmers_info[:5], start=1):\n",
    "        print(f\"{i}. Sequence: {kmer}, Gibbs Free Energy: {energy}, Secondary Structure: {structure}\")\n",
    "\n",
    "        # Generate PNG file for secondary structure\n",
    "        output_png = f\"kmer_{i}.png\"\n",
    "        cmd = f\"echo '{structure}' | RNAplot --output-format=png --output={output_png}\"\n",
    "        subprocess.run(cmd, shell=True, stdout=subprocess.PIPE, stderr=subprocess.PIPE, text=True)\n",
    "\n",
    "        # Display the PNG file\n",
    "        if os.path.exists(output_png):\n",
    "            with Image.open(output_png) as img:\n",
    "                img.show()\n",
    "\n",
    "    # Write all k-mers to the output FASTA file\n",
    "    write_kmers_to_fasta(output_fasta, kmer_dict)\n",
    "\n",
    "if __name__ == \"__main__\":\n",
    "    input_fasta = \"Hotspot_1.fasta\"  # Change this to your input FASTA file\n",
    "    output_fasta = \"output.fasta\"  # Change this to your desired output FASTA file\n",
    "    k_min = 50\n",
    "    k_max = 300\n",
    "    main(input_fasta, output_fasta, k_min, k_max)"
   ]
  },
  {
   "cell_type": "markdown",
   "id": "f3473684-bee9-4e4a-8c4e-0274fd52f1ef",
   "metadata": {},
   "source": [
    "2. print out all the listed sequences and their IDs"
   ]
  },
  {
   "cell_type": "markdown",
   "id": "f1852d6c-85e0-40df-bf09-0204e9dc906b",
   "metadata": {},
   "source": [
    "3. For each candidate sequence, estimate the k-mers ranging from 50 to 250 bp, on which the structure prediction will be performed"
   ]
  },
  {
   "cell_type": "markdown",
   "id": "e88e4159-1518-4fbd-a0f5-4044124b30eb",
   "metadata": {},
   "source": [
    "*Notebook Created By: Christian Mandelli, Oregon State University*"
   ]
  }
 ],
 "metadata": {
  "kernelspec": {
   "display_name": "Python 3 (ipykernel)",
   "language": "python",
   "name": "python3"
  },
  "language_info": {
   "codemirror_mode": {
    "name": "ipython",
    "version": 3
   },
   "file_extension": ".py",
   "mimetype": "text/x-python",
   "name": "python",
   "nbconvert_exporter": "python",
   "pygments_lexer": "ipython3",
   "version": "3.8.18"
  }
 },
 "nbformat": 4,
 "nbformat_minor": 5
}
