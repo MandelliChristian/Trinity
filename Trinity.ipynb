{
 "cells": [
  {
   "cell_type": "markdown",
   "id": "5a71bd88-ebb5-4c03-a1d6-d6d23afcfda7",
   "metadata": {},
   "source": [
    "## **Hotspot Prediction Tool (Trinity)**\n",
    "##### This hotspot prediction tool is specifically designed to analyze genomic sequences, generating all potential secondary structures within a specified range of 50 to 200 base pairs. It then identifies the structure with the lowest free energy, indicative of a potential hotspot-related RNA-interference (RNAi) precursor. The input sequences typically originate from experimental data, such as small RNA sequencing studies on viruses, aimed at identifying regions of the viral genome targeted by the host RNAi machinery."
   ]
  },
  {
   "cell_type": "markdown",
   "id": "42fa93eb-af01-417e-ac5e-2201f6f404c6",
   "metadata": {},
   "source": [
    "0. Starting line to import and install of all the needed package"
   ]
  },
  {
   "cell_type": "code",
   "execution_count": 1,
   "id": "57b8102f-2731-457a-acef-66a732e4731d",
   "metadata": {},
   "outputs": [
    {
     "name": "stdout",
     "output_type": "stream",
     "text": [
      "Requirement already satisfied: biopython in /Users/christianmandelli/miniconda3/envs/myenv/lib/python3.8/site-packages (1.83)\n",
      "Requirement already satisfied: numpy in /Users/christianmandelli/miniconda3/envs/myenv/lib/python3.8/site-packages (from biopython) (1.24.3)\n",
      "Note: you may need to restart the kernel to use updated packages.\n"
     ]
    }
   ],
   "source": [
    "pip install biopython"
   ]
  },
  {
   "cell_type": "code",
   "execution_count": 2,
   "id": "3498f0e3-0ab0-435c-98de-87c36c120cdd",
   "metadata": {},
   "outputs": [
    {
     "name": "stdout",
     "output_type": "stream",
     "text": [
      "Requirement already satisfied: viennarna in /Users/christianmandelli/miniconda3/envs/myenv/lib/python3.8/site-packages (2.6.4)\n",
      "Note: you may need to restart the kernel to use updated packages.\n"
     ]
    }
   ],
   "source": [
    "pip install viennarna"
   ]
  },
  {
   "cell_type": "code",
   "execution_count": 3,
   "id": "44012cb0-c6a5-42f5-9be4-e2fa56557adf",
   "metadata": {},
   "outputs": [
    {
     "name": "stdout",
     "output_type": "stream",
     "text": [
      "Requirement already satisfied: pillow in /Users/christianmandelli/miniconda3/envs/myenv/lib/python3.8/site-packages (10.2.0)\n",
      "Note: you may need to restart the kernel to use updated packages.\n"
     ]
    }
   ],
   "source": [
    "pip install pillow"
   ]
  },
  {
   "cell_type": "markdown",
   "id": "47e36488-445e-47e8-a4d7-c32a35c92910",
   "metadata": {},
   "source": [
    "1. Computation of Hotspot Subsequences"
   ]
  },
  {
   "cell_type": "code",
   "execution_count": 5,
   "id": "b49ce0b3-de46-49a2-9867-c19aa9b57ec8",
   "metadata": {},
   "outputs": [],
   "source": [
    "from Bio import SeqIO\n",
    "\n",
    "def generate_subsequences(sequence, min_length=21):\n",
    "    subsequences = []\n",
    "    for i in range(len(sequence) - min_length + 1):\n",
    "        for j in range(min_length, len(sequence) - i + 1):\n",
    "            subsequences.append(sequence[i:i+j])\n",
    "    return subsequences\n",
    "\n",
    "def write_subsequences_to_fasta(sequence_id, subsequences, output_folder):\n",
    "    with open(f\"{output_folder}/{sequence_id}_subsequences.fasta\", \"w\") as output_file:\n",
    "        for i, subsequence in enumerate(subsequences):\n",
    "            output_file.write(f\">{sequence_id}_subsequence_{i+1}\\n{subsequence}\\n\")\n",
    "\n",
    "def main(input_fasta, output_folder):\n",
    "    for record in SeqIO.parse(input_fasta, \"fasta\"):\n",
    "        subsequences = generate_subsequences(str(record.seq))\n",
    "        write_subsequences_to_fasta(record.id, subsequences, output_folder)\n",
    "\n",
    "if __name__ == \"__main__\":\n",
    "    input_fasta = \"GRBV_Hotspots.fasta\"  # Path to input FASTA file\n",
    "    output_folder = \"subsequences_output\"  # Output folder to save subsequence FASTA files\n",
    "    main(input_fasta, output_folder)"
   ]
  },
  {
   "cell_type": "markdown",
   "id": "f3473684-bee9-4e4a-8c4e-0274fd52f1ef",
   "metadata": {},
   "source": [
    "2. Secondary Structure Prediction and MFE Ranking (using Hotspot 1 as example)"
   ]
  },
  {
   "cell_type": "code",
   "execution_count": 2,
   "id": "c7e9e38f",
   "metadata": {},
   "outputs": [
    {
     "name": "stdout",
     "output_type": "stream",
     "text": [
      "Starting the analysis...\n",
      "Analysis in progress...\n"
     ]
    },
    {
     "ename": "KeyboardInterrupt",
     "evalue": "",
     "output_type": "error",
     "traceback": [
      "\u001b[0;31m---------------------------------------------------------------------------\u001b[0m",
      "\u001b[0;31mKeyboardInterrupt\u001b[0m                         Traceback (most recent call last)",
      "\u001b[0;32m/var/folders/l5/sjdrg0cn5871nyk4fv1cdznh0000gn/T/ipykernel_6873/3251991860.py\u001b[0m in \u001b[0;36m?\u001b[0;34m()\u001b[0m\n\u001b[1;32m     76\u001b[0m \u001b[0;32mimport\u001b[0m \u001b[0mos\u001b[0m\u001b[0;34m\u001b[0m\u001b[0;34m\u001b[0m\u001b[0m\n\u001b[1;32m     77\u001b[0m \u001b[0;32mfrom\u001b[0m \u001b[0mBio\u001b[0m \u001b[0;32mimport\u001b[0m \u001b[0mSeqIO\u001b[0m\u001b[0;34m\u001b[0m\u001b[0;34m\u001b[0m\u001b[0m\n\u001b[1;32m     78\u001b[0m \u001b[0;32mimport\u001b[0m \u001b[0mRNA\u001b[0m\u001b[0;34m\u001b[0m\u001b[0;34m\u001b[0m\u001b[0m\n\u001b[0;32m---> 79\u001b[0;31m \u001b[0;34m\u001b[0m\u001b[0m\n\u001b[0m\u001b[1;32m     80\u001b[0m \u001b[0;32mdef\u001b[0m \u001b[0mpredict_secondary_structure\u001b[0m\u001b[0;34m(\u001b[0m\u001b[0msequence\u001b[0m\u001b[0;34m)\u001b[0m\u001b[0;34m:\u001b[0m\u001b[0;34m\u001b[0m\u001b[0;34m\u001b[0m\u001b[0m\n\u001b[1;32m     81\u001b[0m     \u001b[0;31m# Initialize ViennaRNA RNAfold\u001b[0m\u001b[0;34m\u001b[0m\u001b[0;34m\u001b[0m\u001b[0;34m\u001b[0m\u001b[0m\n\u001b[1;32m     82\u001b[0m     \u001b[0;34m(\u001b[0m\u001b[0mss\u001b[0m\u001b[0;34m,\u001b[0m \u001b[0mmfe\u001b[0m\u001b[0;34m)\u001b[0m \u001b[0;34m=\u001b[0m \u001b[0mRNA\u001b[0m\u001b[0;34m.\u001b[0m\u001b[0mfold\u001b[0m\u001b[0;34m(\u001b[0m\u001b[0msequence\u001b[0m\u001b[0;34m)\u001b[0m\u001b[0;34m\u001b[0m\u001b[0;34m\u001b[0m\u001b[0m\n",
      "\u001b[0;32m/var/folders/l5/sjdrg0cn5871nyk4fv1cdznh0000gn/T/ipykernel_6873/3251991860.py\u001b[0m in \u001b[0;36m?\u001b[0;34m(input_fasta, output_folder)\u001b[0m\n\u001b[1;32m     42\u001b[0m             \u001b[0;32mfor\u001b[0m \u001b[0mj\u001b[0m \u001b[0;32min\u001b[0m \u001b[0mrange\u001b[0m\u001b[0;34m(\u001b[0m\u001b[0mi\u001b[0m \u001b[0;34m+\u001b[0m \u001b[0;36m50\u001b[0m\u001b[0;34m,\u001b[0m \u001b[0mmin\u001b[0m\u001b[0;34m(\u001b[0m\u001b[0mi\u001b[0m \u001b[0;34m+\u001b[0m \u001b[0;36m400\u001b[0m\u001b[0;34m,\u001b[0m \u001b[0mlen\u001b[0m\u001b[0;34m(\u001b[0m\u001b[0msequence\u001b[0m\u001b[0;34m)\u001b[0m\u001b[0;34m)\u001b[0m\u001b[0;34m)\u001b[0m\u001b[0;34m:\u001b[0m  \u001b[0;31m# Limiting to subsequences of length 50 to 400\u001b[0m\u001b[0;34m\u001b[0m\u001b[0;34m\u001b[0m\u001b[0m\n\u001b[1;32m     43\u001b[0m                 \u001b[0msubsequence\u001b[0m \u001b[0;34m=\u001b[0m \u001b[0msequence\u001b[0m\u001b[0;34m[\u001b[0m\u001b[0mi\u001b[0m\u001b[0;34m:\u001b[0m\u001b[0mj\u001b[0m\u001b[0;34m]\u001b[0m\u001b[0;34m\u001b[0m\u001b[0;34m\u001b[0m\u001b[0m\n\u001b[1;32m     44\u001b[0m \u001b[0;34m\u001b[0m\u001b[0m\n\u001b[1;32m     45\u001b[0m                 \u001b[0;31m# Predict the secondary structure and minimum free energy (MFE) using RNAfold\u001b[0m\u001b[0;34m\u001b[0m\u001b[0;34m\u001b[0m\u001b[0;34m\u001b[0m\u001b[0m\n\u001b[0;32m---> 46\u001b[0;31m                 \u001b[0mss\u001b[0m\u001b[0;34m,\u001b[0m \u001b[0mmfe\u001b[0m \u001b[0;34m=\u001b[0m \u001b[0mpredict_secondary_structure\u001b[0m\u001b[0;34m(\u001b[0m\u001b[0msubsequence\u001b[0m\u001b[0;34m)\u001b[0m\u001b[0;34m\u001b[0m\u001b[0;34m\u001b[0m\u001b[0m\n\u001b[0m\u001b[1;32m     47\u001b[0m                 \u001b[0mranked_subsequences\u001b[0m\u001b[0;34m.\u001b[0m\u001b[0mappend\u001b[0m\u001b[0;34m(\u001b[0m\u001b[0;34m(\u001b[0m\u001b[0msubsequence\u001b[0m\u001b[0;34m,\u001b[0m \u001b[0mmfe\u001b[0m\u001b[0;34m)\u001b[0m\u001b[0;34m)\u001b[0m\u001b[0;34m\u001b[0m\u001b[0;34m\u001b[0m\u001b[0m\n\u001b[1;32m     48\u001b[0m \u001b[0;34m\u001b[0m\u001b[0m\n\u001b[1;32m     49\u001b[0m                 \u001b[0;31m# Update lowest MFE sequence and structure if found\u001b[0m\u001b[0;34m\u001b[0m\u001b[0;34m\u001b[0m\u001b[0;34m\u001b[0m\u001b[0m\n",
      "\u001b[0;32m/var/folders/l5/sjdrg0cn5871nyk4fv1cdznh0000gn/T/ipykernel_6873/3251991860.py\u001b[0m in \u001b[0;36m?\u001b[0;34m(sequence)\u001b[0m\n\u001b[1;32m      5\u001b[0m \u001b[0;32mdef\u001b[0m \u001b[0mpredict_secondary_structure\u001b[0m\u001b[0;34m(\u001b[0m\u001b[0msequence\u001b[0m\u001b[0;34m)\u001b[0m\u001b[0;34m:\u001b[0m\u001b[0;34m\u001b[0m\u001b[0;34m\u001b[0m\u001b[0m\n\u001b[1;32m      6\u001b[0m     \u001b[0;31m# Initialize ViennaRNA RNAfold\u001b[0m\u001b[0;34m\u001b[0m\u001b[0;34m\u001b[0m\u001b[0;34m\u001b[0m\u001b[0m\n\u001b[0;32m----> 7\u001b[0;31m     \u001b[0;34m(\u001b[0m\u001b[0mss\u001b[0m\u001b[0;34m,\u001b[0m \u001b[0mmfe\u001b[0m\u001b[0;34m)\u001b[0m \u001b[0;34m=\u001b[0m \u001b[0mRNA\u001b[0m\u001b[0;34m.\u001b[0m\u001b[0mfold\u001b[0m\u001b[0;34m(\u001b[0m\u001b[0msequence\u001b[0m\u001b[0;34m)\u001b[0m\u001b[0;34m\u001b[0m\u001b[0;34m\u001b[0m\u001b[0m\n\u001b[0m\u001b[1;32m      8\u001b[0m     \u001b[0;32mreturn\u001b[0m \u001b[0mss\u001b[0m\u001b[0;34m,\u001b[0m \u001b[0mmfe\u001b[0m\u001b[0;34m\u001b[0m\u001b[0;34m\u001b[0m\u001b[0m\n",
      "\u001b[0;32m~/miniconda3/envs/myenv/lib/python3.8/site-packages/RNA/RNA.py\u001b[0m in \u001b[0;36m?\u001b[0;34m(*args)\u001b[0m\n\u001b[1;32m   8227\u001b[0m     \u001b[0;32mand\u001b[0m \u001b[0mthe\u001b[0m \u001b[0mdata\u001b[0m\u001b[0;34m\u001b[0m\u001b[0;34m\u001b[0m\u001b[0m\n\u001b[1;32m   8228\u001b[0m     \u001b[0mstructure\u001b[0m \u001b[0mRNA\u001b[0m\u001b[0;34m.\u001b[0m\u001b[0mfold_compound\u001b[0m\u001b[0;34m(\u001b[0m\u001b[0;34m)\u001b[0m \u001b[0minstead\u001b[0m\u001b[0;34m.\u001b[0m\u001b[0;34m\u001b[0m\u001b[0;34m\u001b[0m\u001b[0m\n\u001b[1;32m   8229\u001b[0m \u001b[0;34m\u001b[0m\u001b[0m\n\u001b[1;32m   8230\u001b[0m     \"\"\"\n\u001b[0;32m-> 8231\u001b[0;31m     \u001b[0;32mreturn\u001b[0m \u001b[0m_RNA\u001b[0m\u001b[0;34m.\u001b[0m\u001b[0mfold\u001b[0m\u001b[0;34m(\u001b[0m\u001b[0;34m*\u001b[0m\u001b[0margs\u001b[0m\u001b[0;34m)\u001b[0m\u001b[0;34m\u001b[0m\u001b[0;34m\u001b[0m\u001b[0m\n\u001b[0m",
      "\u001b[0;31mKeyboardInterrupt\u001b[0m: "
     ]
    }
   ],
   "source": [
    "import os\n",
    "from Bio import SeqIO\n",
    "import RNA\n",
    "\n",
    "def predict_secondary_structure(sequence):\n",
    "    # Initialize ViennaRNA RNAfold\n",
    "    (ss, mfe) = RNA.fold(sequence)\n",
    "    return ss, mfe\n",
    "\n",
    "def rank_subsequences(input_fasta, output_folder):\n",
    "    lowest_mfe = float('inf')  # Initialize with a large value\n",
    "    lowest_mfe_sequence = None\n",
    "    lowest_mfe_structure = None\n",
    "    ranked_subsequences = []\n",
    "    \n",
    "    # Count the total number of sequences in the input FASTA file\n",
    "    total_sequences = sum(1 for _ in SeqIO.parse(input_fasta, \"fasta\"))\n",
    "    processed_sequences = 0\n",
    "\n",
    "    print(\"Starting the analysis...\")\n",
    "    \n",
    "    # Iterate through each sequence in the input FASTA file\n",
    "    for record in SeqIO.parse(input_fasta, \"fasta\"):\n",
    "        processed_sequences += 1\n",
    "        \n",
    "        # Print progress update after the 10th analyzed sequence\n",
    "        if processed_sequences == 10:\n",
    "            print(\"Analysis in progress...\")\n",
    "        \n",
    "        # Print progress update every 1000 sequences analyzed\n",
    "        if processed_sequences % 100 == 0:\n",
    "            print(f\"Processed {processed_sequences} out of {total_sequences} sequences\")\n",
    "            \n",
    "            # Print progress update every 1000 sequences analyzed\n",
    "        if processed_sequences == total_sequences:\n",
    "            print(\"Analysis Completed!\")\n",
    "        \n",
    "        sequence = str(record.seq)\n",
    "        \n",
    "        # Iterate through all possible subsequences of the sequence\n",
    "        for i in range(len(sequence)):\n",
    "            for j in range(i + 50, min(i + 400, len(sequence))):  # Limiting to subsequences of length 50 to 400\n",
    "                subsequence = sequence[i:j]\n",
    "                \n",
    "                # Predict the secondary structure and minimum free energy (MFE) using RNAfold\n",
    "                ss, mfe = predict_secondary_structure(subsequence)\n",
    "                ranked_subsequences.append((subsequence, mfe))\n",
    "                \n",
    "                # Update lowest MFE sequence and structure if found\n",
    "                if mfe < lowest_mfe:\n",
    "                    lowest_mfe = mfe\n",
    "                    lowest_mfe_sequence = subsequence\n",
    "                    lowest_mfe_structure = ss\n",
    "\n",
    "    # Sort the ranked subsequences based on MFE (ascending order)\n",
    "    ranked_subsequences.sort(key=lambda x: x[1])\n",
    "    \n",
    "    # Save the top 20 subsequences with the lowest MFE to a file\n",
    "    with open(os.path.join(output_folder, \"ranked_subsequences.txt\"), \"w\") as output_file:\n",
    "        output_file.write(\"Subsequence\\tMinimum Free Energy\\n\")\n",
    "        for subsequence, mfe in ranked_subsequences[:20]:\n",
    "            output_file.write(f\"{subsequence}\\t{mfe}\\n\")\n",
    "    \n",
    "    # Write the sequence with the lowest MFE to a separate file\n",
    "    if lowest_mfe_sequence is not None:\n",
    "        lowest_mfe_length = len(lowest_mfe_sequence)\n",
    "        with open(os.path.join(output_folder, \"sequence_with_lowest_mfe.txt\"), \"w\") as lowest_mfe_file:\n",
    "            lowest_mfe_file.write(f\"Sequence with lowest MFE:\\n{lowest_mfe_sequence}\\nLength: {lowest_mfe_length}\\nMFE: {lowest_mfe}\")\n",
    "        \n",
    "        # Save the secondary structure to a dot file\n",
    "        dot_file_path = os.path.join(output_folder, \"lowest_mfe_structure.dot\")\n",
    "        with open(dot_file_path, \"w\") as dot_file:\n",
    "            dot_file.write(f\">{lowest_mfe_sequence}\\n{lowest_mfe_structure}\")\n",
    "\n",
    "\n",
    "if __name__ == \"__main__\":\n",
    "    input_fasta = \"subsequences_output/Hotspot_1_subsequences.fasta\"  # Path to the input FASTA file containing the subsequences\n",
    "    output_folder = \"ranked_subsequences_output_1\"  # Output folder to save the ranked subsequences\n",
    "    rank_subsequences(input_fasta, output_folder)"
   ]
  },
  {
   "cell_type": "markdown",
   "id": "f1852d6c-85e0-40df-bf09-0204e9dc906b",
   "metadata": {},
   "source": [
    "3. For each candidate sequence, estimate the k-mers ranging from 50 to 250 bp, on which the structure prediction will be performed"
   ]
  },
  {
   "cell_type": "markdown",
   "id": "e88e4159-1518-4fbd-a0f5-4044124b30eb",
   "metadata": {},
   "source": [
    "*Notebook Created By: Christian Mandelli, Oregon State University*"
   ]
  }
 ],
 "metadata": {
  "kernelspec": {
   "display_name": "Python 3 (ipykernel)",
   "language": "python",
   "name": "python3"
  },
  "language_info": {
   "codemirror_mode": {
    "name": "ipython",
    "version": 3
   },
   "file_extension": ".py",
   "mimetype": "text/x-python",
   "name": "python",
   "nbconvert_exporter": "python",
   "pygments_lexer": "ipython3",
   "version": "3.8.18"
  }
 },
 "nbformat": 4,
 "nbformat_minor": 5
}
